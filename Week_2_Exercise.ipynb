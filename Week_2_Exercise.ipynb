{
 "cells": [
  {
   "cell_type": "markdown",
   "id": "2b47586a",
   "metadata": {},
   "source": [
    "### Exercises"
   ]
  },
  {
   "cell_type": "code",
   "execution_count": 1,
   "id": "912ff1c7",
   "metadata": {},
   "outputs": [],
   "source": [
    "#1. \n",
    "\n",
    "def OddEven(x):\n",
    "    \"\"\"Check whether an integer is odd or even, x must be integer\"\"\"\n",
    "    if isinstance(x, int):\n",
    "        if x % 2 == 0:\n",
    "            if x == 0:\n",
    "                statement = \" is neither even nor odd.\"\n",
    "            \n",
    "            else:\n",
    "                statement = \" is even number.\"\n",
    "        \n",
    "        else:\n",
    "            statement = \" is odd number.\"\n",
    "            \n",
    "    else:\n",
    "        statement = \" is not an integer!\"\n",
    "        \n",
    "    return print(f\"{x}\" + statement)"
   ]
  },
  {
   "cell_type": "code",
   "execution_count": 2,
   "id": "afe5feb0",
   "metadata": {},
   "outputs": [
    {
     "name": "stdout",
     "output_type": "stream",
     "text": [
      "100 is even number.\n"
     ]
    }
   ],
   "source": [
    "OddEven(100)"
   ]
  },
  {
   "cell_type": "code",
   "execution_count": 3,
   "id": "abd2e230",
   "metadata": {},
   "outputs": [
    {
     "name": "stdout",
     "output_type": "stream",
     "text": [
      "0 is neither even nor odd.\n"
     ]
    }
   ],
   "source": [
    "OddEven(0)"
   ]
  },
  {
   "cell_type": "code",
   "execution_count": 4,
   "id": "fe8ec154",
   "metadata": {},
   "outputs": [
    {
     "name": "stdout",
     "output_type": "stream",
     "text": [
      "0.9 is not an integer!\n"
     ]
    }
   ],
   "source": [
    "OddEven(0.9)"
   ]
  },
  {
   "cell_type": "code",
   "execution_count": 5,
   "id": "066f4950",
   "metadata": {},
   "outputs": [],
   "source": [
    "import numpy as np"
   ]
  },
  {
   "cell_type": "code",
   "execution_count": 6,
   "id": "0e65d938",
   "metadata": {},
   "outputs": [],
   "source": [
    "#2.\n",
    "\n",
    "large_n = 1e5   # 100,000 (hundred thousand)\n",
    "\n",
    "numpy_arr = np.arange(large_n)\n",
    "list_arr = list(range(int(large_n)))    # range is iterator"
   ]
  },
  {
   "cell_type": "code",
   "execution_count": 7,
   "id": "64a4774f",
   "metadata": {},
   "outputs": [
    {
     "name": "stdout",
     "output_type": "stream",
     "text": [
      "[0. 1. 2. 3. 4.]\n",
      "[0, 1, 2, 3, 4]\n"
     ]
    }
   ],
   "source": [
    "print(numpy_arr[:5])\n",
    "print(list_arr[:5])"
   ]
  },
  {
   "cell_type": "code",
   "execution_count": 8,
   "id": "5a36a8a1",
   "metadata": {},
   "outputs": [
    {
     "name": "stdout",
     "output_type": "stream",
     "text": [
      "[99995. 99996. 99997. 99998. 99999.]\n",
      "[99995, 99996, 99997, 99998, 99999]\n"
     ]
    }
   ],
   "source": [
    "print(numpy_arr[-5:])\n",
    "print(list_arr[-5:])"
   ]
  },
  {
   "cell_type": "code",
   "execution_count": 9,
   "id": "fe7bb6f9",
   "metadata": {},
   "outputs": [
    {
     "name": "stdout",
     "output_type": "stream",
     "text": [
      "94.2 µs ± 17.3 µs per loop (mean ± std. dev. of 7 runs, 10,000 loops each)\n"
     ]
    }
   ],
   "source": [
    "%timeit res = numpy_arr*2"
   ]
  },
  {
   "cell_type": "code",
   "execution_count": 10,
   "id": "33aa3318",
   "metadata": {},
   "outputs": [
    {
     "name": "stdout",
     "output_type": "stream",
     "text": [
      "11.3 ms ± 3.12 ms per loop (mean ± std. dev. of 7 runs, 100 loops each)\n"
     ]
    }
   ],
   "source": [
    "%timeit res = [2 * i for i in list_arr]"
   ]
  },
  {
   "cell_type": "code",
   "execution_count": 11,
   "id": "352bd20d",
   "metadata": {},
   "outputs": [
    {
     "name": "stdout",
     "output_type": "stream",
     "text": [
      "[0 1 2 3 4 5 6 7 8 9]\n",
      "[ 0  1  2  3 25 25 25  7  8  9]\n",
      "[-1 25 25]\n",
      "[ 0  1  2  3 25 25 25  7  8  9]\n"
     ]
    }
   ],
   "source": [
    "#3.\n",
    "\n",
    "my_arr = np.arange(10)\n",
    "print(my_arr)\n",
    "my_arr[4:7] = 25\n",
    "print(my_arr)\n",
    "arr_slice = np.copy(my_arr[4:7])  #copy function to new array\n",
    "\n",
    "# Change the first element of arr_slice to -1\n",
    "arr_slice[0]= -1\n",
    "\n",
    "print(arr_slice)\n",
    "print(my_arr)"
   ]
  },
  {
   "cell_type": "code",
   "execution_count": 20,
   "id": "8fe13736",
   "metadata": {},
   "outputs": [],
   "source": [
    "import matplotlib.pyplot as plt"
   ]
  },
  {
   "cell_type": "code",
   "execution_count": 71,
   "id": "a89635ce",
   "metadata": {},
   "outputs": [
    {
     "data": {
      "image/png": "[encoded data removed]",
      "text/plain": [
       "<Figure size 640x480 with 1 Axes>"
      ]
     },
     "metadata": {},
     "output_type": "display_data"
    }
   ],
   "source": [
    "#4.\n",
    "\n",
    "def create_image(dimensions, circle_radius):\n",
    "    # Create a blank black canvas\n",
    "    image = np.zeros((dimensions, dimensions, 3), dtype=np.uint8)\n",
    "\n",
    "    # Calculate the center of the image\n",
    "    center_x, center_y = dimensions // 2, dimensions // 2\n",
    "\n",
    "    # Create a grid of coordinates\n",
    "    y, x = np.ogrid[:dimensions, :dimensions]\n",
    "\n",
    "    # Create a circular mask\n",
    "    mask = (x - center_x) ** 2 + (y - center_y) ** 2 <= circle_radius ** 2\n",
    "\n",
    "    # Set the circular region to white (255)\n",
    "    image[mask] = 255\n",
    "    \n",
    "    return image\n",
    "\n",
    "# Set the dimensions of the image (e.g., 300x300 pixels)\n",
    "image_dimension = 150\n",
    "\n",
    "# Set the radius of the circular spot (e.g., 50 pixels)\n",
    "circle_radius = 20\n",
    "\n",
    "# Generate the image\n",
    "result_image = create_image(image_dimension, circle_radius)\n",
    "\n",
    "# Display the image using Matplotlib\n",
    "plt.imshow(result_image)\n",
    "plt.axis('off')\n",
    "plt.show()"
   ]
  },
  {
   "cell_type": "code",
   "execution_count": null,
   "id": "b9688267",
   "metadata": {},
   "outputs": [],
   "source": []
  }
 ],
 "metadata": {
  "kernelspec": {
   "display_name": "Python 3 (ipykernel)",
   "language": "python",
   "name": "python3"
  },
  "language_info": {
   "codemirror_mode": {
    "name": "ipython",
    "version": 3
   },
   "file_extension": ".py",
   "mimetype": "text/x-python",
   "name": "python",
   "nbconvert_exporter": "python",
   "pygments_lexer": "ipython3",
   "version": "3.10.9"
  }
 },
 "nbformat": 4,
 "nbformat_minor": 5
}
